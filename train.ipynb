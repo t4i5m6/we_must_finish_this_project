{
 "cells": [
  {
   "cell_type": "code",
   "execution_count": 1,
   "metadata": {},
   "outputs": [],
   "source": [
    "import pandas as pd\n",
    "import numpy as np\n",
    "import jieba"
   ]
  },
  {
   "cell_type": "code",
   "execution_count": 2,
   "metadata": {},
   "outputs": [
    {
     "name": "stderr",
     "output_type": "stream",
     "text": [
      "/usr/local/lib/python3.5/dist-packages/h5py/__init__.py:36: FutureWarning: Conversion of the second argument of issubdtype from `float` to `np.floating` is deprecated. In future, it will be treated as `np.float64 == np.dtype(float).type`.\n",
      "  from ._conv import register_converters as _register_converters\n",
      "Using TensorFlow backend.\n"
     ]
    }
   ],
   "source": [
    "from cleanse import separateUserContent,separateAllContent\n",
    "from random import shuffle, randint\n",
    "from gensim.models import word2vec\n",
    "from gensim.models import KeyedVectors\n",
    "import matplotlib.pyplot as plt\n",
    "from keras.preprocessing.sequence import pad_sequences\n",
    "from keras.layers import Input, Dense ,SimpleRNN, Embedding, Activation, LSTM, GRU,Bidirectional,GlobalMaxPooling1D,Dot,Lambda,Add,Conv1D\n",
    "from keras.models import Model,  Sequential, load_model,model_from_json\n",
    "from keras import backend as K\n",
    "from keras.callbacks import ModelCheckpoint"
   ]
  },
  {
   "cell_type": "code",
   "execution_count": 3,
   "metadata": {},
   "outputs": [
    {
     "name": "stdout",
     "output_type": "stream",
     "text": [
      "['我的T102H一直重開機不能用 平板電腦説找筆電處理IMG_0264.JPG IMG_0265.JPG像平板那款已跑10分鐘了 一直說處理更新', '目前可能是在更新 建議您先等他跑完']\n"
     ]
    }
   ],
   "source": [
    "tmp_tup_df =pd.read_pickle(\"validation_tup_list.pkl\")\n",
    "validation_tup_list =tmp_tup_df.values.tolist()\n",
    "print(validation_tup_list[0])"
   ]
  },
  {
   "cell_type": "code",
   "execution_count": 4,
   "metadata": {},
   "outputs": [
    {
     "data": {
      "text/plain": [
       "'HTTPS://WWW.ASUS.COM/TW/SUPPORT/FAQ/1002656/ 煩請您參考'"
      ]
     },
     "execution_count": 4,
     "metadata": {},
     "output_type": "execute_result"
    }
   ],
   "source": [
    "validation_tup_list[33][1]"
   ]
  },
  {
   "cell_type": "code",
   "execution_count": 5,
   "metadata": {},
   "outputs": [
    {
     "name": "stdout",
     "output_type": "stream",
     "text": [
      "['查型號什麽序號在那裡平版', '您可以再設定>關於>狀態>序號']\n"
     ]
    }
   ],
   "source": [
    "tmp_tup_df =pd.read_pickle(\"training_tup_list.pkl\")\n",
    "training_tup_list =tmp_tup_df.values.tolist()\n",
    "print(training_tup_list[0])"
   ]
  },
  {
   "cell_type": "code",
   "execution_count": 6,
   "metadata": {},
   "outputs": [],
   "source": [
    "vec_model = word2vec.Word2Vec.load(\"word2vec.model\")"
   ]
  },
  {
   "cell_type": "code",
   "execution_count": 7,
   "metadata": {},
   "outputs": [],
   "source": [
    "import pickle #WORD INDEX 是WORD2VEC辭典的編號\n",
    "f = open(\"word_index_dic.pkl\",\"rb\")\n",
    "word_index = pickle.load(f)\n",
    "f.close()"
   ]
  },
  {
   "cell_type": "code",
   "execution_count": 8,
   "metadata": {},
   "outputs": [
    {
     "name": "stdout",
     "output_type": "stream",
     "text": [
      "[3816]\n"
     ]
    }
   ],
   "source": [
    "tmp_df =pd.read_pickle(\"Wrong_ans_int_set.pkl\")#Wrong ANS SET紀錄每個問題對應的錯誤答案的編號\n",
    "Wrong_ans_int_list =tmp_df.values\n",
    "#print(tmp_Wrong_ans_int_list[100])\n",
    "print(Wrong_ans_int_list[0])"
   ]
  },
  {
   "cell_type": "code",
   "execution_count": 9,
   "metadata": {},
   "outputs": [],
   "source": [
    "def makeQuesFeatuers(vec_model,word_index):\n",
    "    docs = []\n",
    "\n",
    "   \n",
    "            \n",
    "    for i in range(len(training_tup_list)):\n",
    "        list1 = jieba.cut(training_tup_list[i][0], cut_all = False)\n",
    "    \n",
    "        docs.append(list(list1))\n",
    "\n",
    "   \n",
    "   \n",
    "\n",
    "    encoded_docs = []\n",
    "    for list10 in docs:\n",
    "        list_temp = []\n",
    "        for word in list10:\n",
    "            if word in vec_model.wv.vocab:\n",
    "                list_temp.append(word_index[word])\n",
    "        encoded_docs.append(list_temp)\n",
    "\n",
    "    #print(encoded_docs[0])\n",
    "    max_length = 40\n",
    "    padded_docs_list = pad_sequences(encoded_docs, maxlen = max_length, padding = 'post')\n",
    "\n",
    "    padded_docs = np.array(padded_docs_list)\n",
    "\n",
    "    return padded_docs\n",
    "def makeAnsFeatuers(vec_model,word_index):\n",
    "    docs = []\n",
    "\n",
    "   \n",
    "            \n",
    "    for i in range(len(training_tup_list)):\n",
    "        list1 = jieba.cut(training_tup_list[i][1], cut_all = False)\n",
    "    \n",
    "        docs.append(list(list1))\n",
    "\n",
    "   \n",
    "   \n",
    "\n",
    "    encoded_docs = []\n",
    "    for list10 in docs:\n",
    "        list_temp = []\n",
    "        for word in list10:\n",
    "            if word in vec_model.wv.vocab:\n",
    "                list_temp.append(word_index[word])\n",
    "        encoded_docs.append(list_temp)\n",
    "\n",
    "    #print(encoded_docs[0])\n",
    "    max_length = 40\n",
    "    padded_docs_list = pad_sequences(encoded_docs, maxlen = max_length, padding = 'post')\n",
    "\n",
    "    padded_docs = np.array(padded_docs_list)\n",
    "\n",
    "    return padded_docs\n",
    "def makeWrongAnsFeatuers(vec_model,word_index,Wrong_ans_int_list):\n",
    "    docs = []\n",
    "\n",
    "    \n",
    "            \n",
    "    for i in range(len(training_tup_list)):#隨機找一句不是這句答案的答案\n",
    "            \n",
    "        #print(training_tup_list[i][1])\n",
    "        #print(training_tup_list[tmp_int][1])\n",
    "        tmp_int = Wrong_ans_int_list[i][0] #先找到編號在找句子\n",
    "        list1 = jieba.cut(training_tup_list[tmp_int][1], cut_all = False)\n",
    "    \n",
    "        docs.append(list(list1))\n",
    "\n",
    "   \n",
    "   \n",
    "\n",
    "    encoded_docs = []\n",
    "    for list10 in docs:\n",
    "        list_temp = []\n",
    "        for word in list10:\n",
    "            if word in vec_model.wv.vocab:\n",
    "                list_temp.append(word_index[word])\n",
    "        encoded_docs.append(list_temp)\n",
    "\n",
    "    #print(encoded_docs[0])\n",
    "    max_length = 40\n",
    "    padded_docs_list = pad_sequences(encoded_docs, maxlen = max_length, padding = 'post')\n",
    "\n",
    "    padded_docs = np.array(padded_docs_list)\n",
    "\n",
    "    return padded_docs"
   ]
  },
  {
   "cell_type": "code",
   "execution_count": 10,
   "metadata": {},
   "outputs": [
    {
     "name": "stderr",
     "output_type": "stream",
     "text": [
      "Building prefix dict from the default dictionary ...\n",
      "Loading model from cache /tmp/jieba.cache\n",
      "Loading model cost 0.477 seconds.\n",
      "Prefix dict has been built succesfully.\n"
     ]
    }
   ],
   "source": [
    "train_q_fea = makeQuesFeatuers(vec_model, word_index)\n",
    "train_a_fea = makeAnsFeatuers(vec_model,word_index)"
   ]
  },
  {
   "cell_type": "code",
   "execution_count": 11,
   "metadata": {},
   "outputs": [],
   "source": [
    "train_wa_fea = makeWrongAnsFeatuers(vec_model, word_index,Wrong_ans_int_list)"
   ]
  },
  {
   "cell_type": "code",
   "execution_count": 12,
   "metadata": {},
   "outputs": [],
   "source": [
    "max_len = 40 #model的部份主要按照ANSWER SELECTION GITHUB 40是跟者上面的設定\n",
    "input_q = Input((max_len,))\n",
    "input_at = Input((max_len,))\n",
    "input_aw= Input((max_len,))"
   ]
  },
  {
   "cell_type": "code",
   "execution_count": 13,
   "metadata": {},
   "outputs": [],
   "source": [
    "embedding_matrix = np.zeros((len(vec_model.wv.vocab)+1, 250)) #250是WORD2VEC訓練的詞向量維度\n",
    "for word, i in word_index.items():\n",
    "        embedding_vector = vec_model.wv[word]\n",
    "        embedding_matrix[i] = embedding_vector\n",
    "        \n",
    "embedding_layer = Embedding(len(vec_model.wv.vocab)+1, 250, weights = [embedding_matrix], input_length = 40)"
   ]
  },
  {
   "cell_type": "code",
   "execution_count": 14,
   "metadata": {},
   "outputs": [],
   "source": [
    "emb_q = embedding_layer(input_q)\n",
    "emb_at = embedding_layer(input_at)\n",
    "emb_aw = embedding_layer(input_aw)"
   ]
  },
  {
   "cell_type": "code",
   "execution_count": 15,
   "metadata": {},
   "outputs": [],
   "source": [
    "shared_lstm = Bidirectional(\n",
    "    LSTM(300, return_sequences=True)#RETUREN SEQUENCE回傳所有時間點的隱藏曾的直\n",
    ")\n",
    "encode_q = shared_lstm(emb_q)\n",
    "encode_at = shared_lstm(emb_at)\n",
    "encode_aw = shared_lstm(emb_aw)"
   ]
  },
  {
   "cell_type": "code",
   "execution_count": 16,
   "metadata": {},
   "outputs": [
    {
     "data": {
      "text/plain": [
       "'vec_q = GlobalMaxPooling1D()(encode_q)\\nm_a = Dense(1)(encode_at)\\nm_oq = Dense(40)(vec_q)\\nm_aq = Add()([m_a,m_oq])\\nm_aq = Activation(\"tanh\")(m_aq)'"
      ]
     },
     "execution_count": 16,
     "metadata": {},
     "output_type": "execute_result"
    }
   ],
   "source": [
    "\"\"\"vec_q = GlobalMaxPooling1D()(encode_q)\n",
    "m_a = Dense(1)(encode_at)\n",
    "m_oq = Dense(40)(vec_q)\n",
    "m_aq = Add()([m_a,m_oq])\n",
    "m_aq = Activation(\"tanh\")(m_aq)\"\"\""
   ]
  },
  {
   "cell_type": "code",
   "execution_count": 17,
   "metadata": {},
   "outputs": [
    {
     "data": {
      "text/plain": [
       "\"shared_conv = Conv1D(300,2,padding='same',activation='relu',strides=1)\\nconv_q = shared_conv(encode_q)\\nconv_at = shared_conv(encode_at)\\nconv_aw = shared_conv(encode_aw)\""
      ]
     },
     "execution_count": 17,
     "metadata": {},
     "output_type": "execute_result"
    }
   ],
   "source": [
    "'''shared_conv = Conv1D(300,2,padding='same',activation='relu',strides=1)\n",
    "conv_q = shared_conv(encode_q)\n",
    "conv_at = shared_conv(encode_at)\n",
    "conv_aw = shared_conv(encode_aw)'''"
   ]
  },
  {
   "cell_type": "code",
   "execution_count": 18,
   "metadata": {},
   "outputs": [],
   "source": [
    "vec_q = GlobalMaxPooling1D()(encode_q)\n",
    "vec_at = GlobalMaxPooling1D()(encode_at)\n",
    "vec_aw = GlobalMaxPooling1D()(encode_aw)"
   ]
  },
  {
   "cell_type": "code",
   "execution_count": 19,
   "metadata": {},
   "outputs": [],
   "source": [
    "cosine_t = Dot(axes=1, normalize=True)([vec_q, vec_at])\n",
    "cosine_w = Dot(axes=1, normalize=True)([vec_q, vec_aw])"
   ]
  },
  {
   "cell_type": "code",
   "execution_count": 20,
   "metadata": {},
   "outputs": [],
   "source": [
    "neg = Lambda(lambda x: -x)\n",
    "sub = Add()([cosine_w, neg(cosine_t)])#這邊開始的LOSS 主要按照論文李的HINGE LOSS 可以看一下我有沒有寫錯"
   ]
  },
  {
   "cell_type": "code",
   "execution_count": 21,
   "metadata": {},
   "outputs": [],
   "source": [
    "def hinge(x):\n",
    "    tmp = K.zeros(K.shape(x))\n",
    "    return K.maximum(tmp, 0.1 + x) #錯誤的答案跟正確的至少可以相差0.2 再大就被視為一樣好 \n",
    "    \n",
    "hinge1 = Lambda(hinge)\n",
    "result = hinge1(sub)"
   ]
  },
  {
   "cell_type": "code",
   "execution_count": 22,
   "metadata": {},
   "outputs": [],
   "source": [
    "model = Model(inputs=[input_q, input_at, input_aw], outputs=[result, cosine_t, cosine_w])"
   ]
  },
  {
   "cell_type": "code",
   "execution_count": 23,
   "metadata": {},
   "outputs": [],
   "source": [
    "model.compile(\n",
    "    optimizer='adam', loss='mean_squared_error', loss_weights=[1, 0, 0]#只看HINGE LOSS 未來可以加入權重\n",
    ")"
   ]
  },
  {
   "cell_type": "code",
   "execution_count": 24,
   "metadata": {},
   "outputs": [
    {
     "name": "stdout",
     "output_type": "stream",
     "text": [
      "__________________________________________________________________________________________________\n",
      "Layer (type)                    Output Shape         Param #     Connected to                     \n",
      "==================================================================================================\n",
      "input_1 (InputLayer)            (None, 40)           0                                            \n",
      "__________________________________________________________________________________________________\n",
      "input_3 (InputLayer)            (None, 40)           0                                            \n",
      "__________________________________________________________________________________________________\n",
      "input_2 (InputLayer)            (None, 40)           0                                            \n",
      "__________________________________________________________________________________________________\n",
      "embedding_1 (Embedding)         (None, 40, 250)      901750      input_1[0][0]                    \n",
      "                                                                 input_2[0][0]                    \n",
      "                                                                 input_3[0][0]                    \n",
      "__________________________________________________________________________________________________\n",
      "bidirectional_1 (Bidirectional) (None, 40, 600)      1322400     embedding_1[0][0]                \n",
      "                                                                 embedding_1[1][0]                \n",
      "                                                                 embedding_1[2][0]                \n",
      "__________________________________________________________________________________________________\n",
      "global_max_pooling1d_1 (GlobalM (None, 600)          0           bidirectional_1[0][0]            \n",
      "__________________________________________________________________________________________________\n",
      "global_max_pooling1d_2 (GlobalM (None, 600)          0           bidirectional_1[1][0]            \n",
      "__________________________________________________________________________________________________\n",
      "global_max_pooling1d_3 (GlobalM (None, 600)          0           bidirectional_1[2][0]            \n",
      "__________________________________________________________________________________________________\n",
      "dot_1 (Dot)                     (None, 1)            0           global_max_pooling1d_1[0][0]     \n",
      "                                                                 global_max_pooling1d_2[0][0]     \n",
      "__________________________________________________________________________________________________\n",
      "dot_2 (Dot)                     (None, 1)            0           global_max_pooling1d_1[0][0]     \n",
      "                                                                 global_max_pooling1d_3[0][0]     \n",
      "__________________________________________________________________________________________________\n",
      "lambda_1 (Lambda)               (None, 1)            0           dot_1[0][0]                      \n",
      "__________________________________________________________________________________________________\n",
      "add_1 (Add)                     (None, 1)            0           dot_2[0][0]                      \n",
      "                                                                 lambda_1[0][0]                   \n",
      "__________________________________________________________________________________________________\n",
      "lambda_2 (Lambda)               (None, 1)            0           add_1[0][0]                      \n",
      "==================================================================================================\n",
      "Total params: 2,224,150\n",
      "Trainable params: 2,224,150\n",
      "Non-trainable params: 0\n",
      "__________________________________________________________________________________________________\n"
     ]
    }
   ],
   "source": [
    "model.summary()"
   ]
  },
  {
   "cell_type": "code",
   "execution_count": 25,
   "metadata": {},
   "outputs": [
    {
     "name": "stdout",
     "output_type": "stream",
     "text": [
      "[[-1.]\n",
      " [-1.]\n",
      " [-1.]\n",
      " ...\n",
      " [-1.]\n",
      " [-1.]\n",
      " [-1.]]\n"
     ]
    }
   ],
   "source": [
    "label1 = np.zeros((len(train_a_fea), 1))#這邊地一個是HINGE LOSS 地2個是cos true  3 is cos  neg\n",
    "label2 = np.ones((len(train_a_fea), 1))#cos 正確的最大是1\n",
    "label3 = np.ones((len(train_a_fea), 1))\n",
    "label3 = label3 * -1#COS錯誤的最好是-1\n",
    "print(label3)"
   ]
  },
  {
   "cell_type": "code",
   "execution_count": 28,
   "metadata": {},
   "outputs": [],
   "source": [
    "filepath=\"weights_best_2.hdf5\"\n",
    "checkpoint = ModelCheckpoint(filepath, monitor='loss',verbose=1, save_best_only=True,save_weights_only=False, mode='min')\n",
    "callbacks_list = [checkpoint]"
   ]
  },
  {
   "cell_type": "code",
   "execution_count": 29,
   "metadata": {},
   "outputs": [
    {
     "name": "stdout",
     "output_type": "stream",
     "text": [
      "Epoch 1/10\n",
      "8394/8394 [==============================] - 11s 1ms/step - loss: 0.0033 - lambda_2_loss: 0.0033 - dot_1_loss: 0.0175 - dot_2_loss: 3.1860\n",
      "\n",
      "Epoch 00001: loss improved from inf to 0.00335, saving model to weights_best_2.hdf5\n",
      "Epoch 2/10\n",
      "8394/8394 [==============================] - 9s 1ms/step - loss: 0.0017 - lambda_2_loss: 0.0017 - dot_1_loss: 0.0279 - dot_2_loss: 2.9102\n",
      "\n",
      "Epoch 00002: loss improved from 0.00335 to 0.00173, saving model to weights_best_2.hdf5\n",
      "Epoch 3/10\n",
      "8394/8394 [==============================] - 9s 1ms/step - loss: 0.0011 - lambda_2_loss: 0.0011 - dot_1_loss: 0.0408 - dot_2_loss: 2.6895\n",
      "\n",
      "Epoch 00003: loss improved from 0.00173 to 0.00105, saving model to weights_best_2.hdf5\n",
      "Epoch 4/10\n",
      "8394/8394 [==============================] - 9s 1ms/step - loss: 6.3936e-04 - lambda_2_loss: 6.3936e-04 - dot_1_loss: 0.0579 - dot_2_loss: 2.4783\n",
      "\n",
      "Epoch 00004: loss improved from 0.00105 to 0.00064, saving model to weights_best_2.hdf5\n",
      "Epoch 5/10\n",
      "8394/8394 [==============================] - 9s 1ms/step - loss: 3.3556e-04 - lambda_2_loss: 3.3556e-04 - dot_1_loss: 0.0847 - dot_2_loss: 2.2235\n",
      "\n",
      "Epoch 00005: loss improved from 0.00064 to 0.00034, saving model to weights_best_2.hdf5\n",
      "Epoch 6/10\n",
      "8394/8394 [==============================] - 9s 1ms/step - loss: 1.5763e-04 - lambda_2_loss: 1.5763e-04 - dot_1_loss: 0.0965 - dot_2_loss: 2.0914\n",
      "\n",
      "Epoch 00006: loss improved from 0.00034 to 0.00016, saving model to weights_best_2.hdf5\n",
      "Epoch 7/10\n",
      "8394/8394 [==============================] - 9s 1ms/step - loss: 8.0095e-05 - lambda_2_loss: 8.0095e-05 - dot_1_loss: 0.1303 - dot_2_loss: 1.8692\n",
      "\n",
      "Epoch 00007: loss improved from 0.00016 to 0.00008, saving model to weights_best_2.hdf5\n",
      "Epoch 8/10\n",
      "8394/8394 [==============================] - 9s 1ms/step - loss: 7.0467e-05 - lambda_2_loss: 7.0467e-05 - dot_1_loss: 0.1260 - dot_2_loss: 1.8910\n",
      "\n",
      "Epoch 00008: loss improved from 0.00008 to 0.00007, saving model to weights_best_2.hdf5\n",
      "Epoch 9/10\n",
      "8394/8394 [==============================] - 9s 1ms/step - loss: 2.4413e-05 - lambda_2_loss: 2.4413e-05 - dot_1_loss: 0.1512 - dot_2_loss: 1.7382\n",
      "\n",
      "Epoch 00009: loss improved from 0.00007 to 0.00002, saving model to weights_best_2.hdf5\n",
      "Epoch 10/10\n",
      "8394/8394 [==============================] - 9s 1ms/step - loss: 1.4749e-05 - lambda_2_loss: 1.4749e-05 - dot_1_loss: 0.1444 - dot_2_loss: 1.7564\n",
      "\n",
      "Epoch 00010: loss improved from 0.00002 to 0.00001, saving model to weights_best_2.hdf5\n"
     ]
    },
    {
     "data": {
      "text/plain": [
       "<keras.callbacks.History at 0x7fbacd22d940>"
      ]
     },
     "execution_count": 29,
     "metadata": {},
     "output_type": "execute_result"
    }
   ],
   "source": [
    "model.fit([train_q_fea,train_a_fea,train_wa_fea], [label1,label2,label3] , callbacks=callbacks_list,epochs= 10, batch_size = 256, verbose = 1)"
   ]
  },
  {
   "cell_type": "code",
   "execution_count": 30,
   "metadata": {},
   "outputs": [],
   "source": [
    "model.load_weights(filepath =\"weights_best_2.hdf5\" )#先把最好的MODEL載入在除存\n",
    "model_json = model.to_json()\n",
    "with open(\"model_margin_0.1_epo_10_2.json\", \"w\") as json_file:\n",
    "    json_file.write(model_json)"
   ]
  },
  {
   "cell_type": "code",
   "execution_count": 31,
   "metadata": {},
   "outputs": [],
   "source": [
    "test_ans_num = 99\n",
    "tmp_df =pd.read_pickle(\"candidate_100_ans.pkl\")#讀取對每個問題的100個答案\n",
    "test_ans_set =tmp_df.values.tolist()"
   ]
  },
  {
   "cell_type": "code",
   "execution_count": 32,
   "metadata": {},
   "outputs": [],
   "source": [
    "def makeTestQuesFeatuers(vec_model,word_index):\n",
    "    docs = []\n",
    "\n",
    "   \n",
    "            \n",
    "    for i in range(len(validation_tup_list)):\n",
    "        list1 = jieba.cut(validation_tup_list[i][0], cut_all = False)\n",
    "    \n",
    "        docs.append(list(list1))\n",
    "\n",
    "   \n",
    "   \n",
    "\n",
    "    encoded_docs = []\n",
    "    for list10 in docs:\n",
    "        list_temp = []\n",
    "        for word in list10:\n",
    "            if word in vec_model.wv.vocab:\n",
    "                list_temp.append(word_index[word])\n",
    "        encoded_docs.append(list_temp)\n",
    "\n",
    "    #print(encoded_docs[0])\n",
    "    max_length = 40\n",
    "    padded_docs_list = pad_sequences(encoded_docs, maxlen = max_length, padding = 'post')\n",
    "\n",
    "    padded_docs = np.array(padded_docs_list)\n",
    "\n",
    "    return padded_docs\n",
    "\n",
    "def makeTestAnsFeatures(vec_model,word_index, test_num):\n",
    "    docs = []\n",
    "\n",
    "   \n",
    "            \n",
    "    for i in range(len(test_ans_set)):\n",
    "        list1 = jieba.cut(test_ans_set[i][test_num], cut_all = False)\n",
    "    \n",
    "        docs.append(list(list1))\n",
    "\n",
    "   \n",
    "   \n",
    "\n",
    "    encoded_docs = []\n",
    "    for list10 in docs:\n",
    "        list_temp = []\n",
    "        for word in list10:\n",
    "            if word in vec_model.wv.vocab:\n",
    "                list_temp.append(word_index[word])\n",
    "        encoded_docs.append(list_temp)\n",
    "\n",
    "    #print(encoded_docs[0])\n",
    "    max_length = 40\n",
    "    padded_docs_list = pad_sequences(encoded_docs, maxlen = max_length, padding = 'post')\n",
    "\n",
    "    padded_docs = np.array(padded_docs_list)\n",
    "\n",
    "    return padded_docs"
   ]
  },
  {
   "cell_type": "code",
   "execution_count": 33,
   "metadata": {},
   "outputs": [],
   "source": [
    "test_q_fea = makeTestQuesFeatuers(vec_model, word_index)#產生出的矩陣是（ ,40)\n",
    "test_a_fea = []\n",
    "for i in range(test_ans_num+1): #有100個答案的FEATURE 產生出的矩陣是（100, , 40)有100組答案每一組答案是(,40)\n",
    "    tmp_list = makeTestAnsFeatures(vec_model,word_index,i)\n",
    "    test_a_fea.append(tmp_list)"
   ]
  },
  {
   "cell_type": "code",
   "execution_count": 34,
   "metadata": {},
   "outputs": [],
   "source": [
    "ans = model.predict([test_q_fea,test_a_fea[0],test_a_fea[0]])#先預測第一句答案[RESULT , COS_POS COS_NEG因為要CONCAT\n",
    "ans_cos_np = np.array(ans[1]).reshape((len(ans[1]),1))#從 (1,) to ( , 1)\n",
    "#ans_neg_np = np.array(ans[2]).reshape((len(ans[1]),1))"
   ]
  },
  {
   "cell_type": "code",
   "execution_count": 35,
   "metadata": {},
   "outputs": [
    {
     "name": "stdout",
     "output_type": "stream",
     "text": [
      "1\n",
      "2\n",
      "3\n",
      "4\n",
      "5\n",
      "6\n",
      "7\n",
      "8\n",
      "9\n",
      "10\n",
      "11\n",
      "12\n",
      "13\n",
      "14\n",
      "15\n",
      "16\n",
      "17\n",
      "18\n",
      "19\n",
      "20\n",
      "21\n",
      "22\n",
      "23\n",
      "24\n",
      "25\n",
      "26\n",
      "27\n",
      "28\n",
      "29\n",
      "30\n",
      "31\n",
      "32\n",
      "33\n",
      "34\n",
      "35\n",
      "36\n",
      "37\n",
      "38\n",
      "39\n",
      "40\n",
      "41\n",
      "42\n",
      "43\n",
      "44\n",
      "45\n",
      "46\n",
      "47\n",
      "48\n",
      "49\n",
      "50\n",
      "51\n",
      "52\n",
      "53\n",
      "54\n",
      "55\n",
      "56\n",
      "57\n",
      "58\n",
      "59\n",
      "60\n",
      "61\n",
      "62\n",
      "63\n",
      "64\n",
      "65\n",
      "66\n",
      "67\n",
      "68\n",
      "69\n",
      "70\n",
      "71\n",
      "72\n",
      "73\n",
      "74\n",
      "75\n",
      "76\n",
      "77\n",
      "78\n",
      "79\n",
      "80\n",
      "81\n",
      "82\n",
      "83\n",
      "84\n",
      "85\n",
      "86\n",
      "87\n",
      "88\n",
      "89\n",
      "90\n",
      "91\n",
      "92\n",
      "93\n",
      "94\n",
      "95\n",
      "96\n",
      "97\n",
      "98\n",
      "99\n"
     ]
    }
   ],
   "source": [
    "for i in range(1,test_ans_num+1):#predict 剩下的 大約15分\n",
    "    ans = model.predict([test_q_fea,test_a_fea[i],test_a_fea[i]])\n",
    "    tmp_cos_np = np.array(ans[1]).reshape((len(ans[1]),1))\n",
    "    ans_cos_np = np.concatenate((ans_cos_np,tmp_cos_np),axis = 1)#把答案串起來 ( ,100)\n",
    "    print(i)"
   ]
  },
  {
   "cell_type": "code",
   "execution_count": 36,
   "metadata": {},
   "outputs": [],
   "source": [
    "true_ans_np = ans_cos_np \n",
    "\n",
    "sorted_candidate_ans = []\n",
    "for i in range(len(true_ans_np)):\n",
    "    temp_list = []\n",
    "    for j in range(0, test_ans_num+1):\n",
    "        temp_list.append((test_ans_set[i][j],true_ans_np[i][j]))\n",
    "    temp_list.sort(key=lambda tup: tup[1], reverse = True)\n",
    "    sorted_candidate_ans.append(temp_list)"
   ]
  },
  {
   "cell_type": "code",
   "execution_count": 37,
   "metadata": {},
   "outputs": [
    {
     "name": "stdout",
     "output_type": "stream",
     "text": [
      "933\n",
      "0.45444801714898175\n"
     ]
    }
   ],
   "source": [
    "sum = 0\n",
    "for i in range(len(sorted_candidate_ans)):\n",
    "    if sorted_candidate_ans[i][0][1] == true_ans_np[i][99]:#最大的跟真實的答案一樣\n",
    "        sum += 1\n",
    "accuracy = sum / len(sorted_candidate_ans)\n",
    "print(len(true_ans_np))\n",
    "print(accuracy)"
   ]
  },
  {
   "cell_type": "code",
   "execution_count": 38,
   "metadata": {},
   "outputs": [
    {
     "name": "stdout",
     "output_type": "stream",
     "text": [
      "933\n",
      "0.7438370846730975\n"
     ]
    }
   ],
   "source": [
    "sum = 0\n",
    "for i in range(len(sorted_candidate_ans)):\n",
    "    if sorted_candidate_ans[i][4][1] <= true_ans_np[i][99]:#真實的答案在第五明之前\n",
    "        sum += 1\n",
    "accuracy = sum / len(sorted_candidate_ans)\n",
    "print(len(sorted_candidate_ans))\n",
    "print(accuracy)"
   ]
  },
  {
   "cell_type": "code",
   "execution_count": 39,
   "metadata": {},
   "outputs": [],
   "source": [
    "with open(\"Output_test2.txt\", \"w\") as text_file:\n",
    "    for i in range(0, 100):\n",
    "        text_file.write(\"Question %d : %s\\n\" % (i+1, validation_tup_list[i][0]))\n",
    "        text_file.write(\"True answer %d : %s   %f \\n\" % (i+1, validation_tup_list[i][1], true_ans_np[i][99]))\n",
    "        text_file.write(\"Ans:  \\n\\n\")\n",
    "        for j in range(0,5):\n",
    "            text_file.write(\"%d. %s %f\\n\" % (j, sorted_candidate_ans[i][j][0], sorted_candidate_ans[i][j][1]))"
   ]
  },
  {
   "cell_type": "code",
   "execution_count": null,
   "metadata": {},
   "outputs": [],
   "source": []
  }
 ],
 "metadata": {
  "kernelspec": {
   "display_name": "Python 3",
   "language": "python",
   "name": "python3"
  },
  "language_info": {
   "codemirror_mode": {
    "name": "ipython",
    "version": 3
   },
   "file_extension": ".py",
   "mimetype": "text/x-python",
   "name": "python",
   "nbconvert_exporter": "python",
   "pygments_lexer": "ipython3",
   "version": "3.5.2"
  }
 },
 "nbformat": 4,
 "nbformat_minor": 2
}
