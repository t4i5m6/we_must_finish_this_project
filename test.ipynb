{
 "cells": [
  {
   "cell_type": "code",
   "execution_count": 1,
   "metadata": {},
   "outputs": [],
   "source": [
    "import pandas as pd\n",
    "import numpy as np\n",
    "import jieba\n",
    "import pickle\n"
   ]
  },
  {
   "cell_type": "code",
   "execution_count": 2,
   "metadata": {},
   "outputs": [
    {
     "name": "stderr",
     "output_type": "stream",
     "text": [
      "/usr/local/lib/python3.5/dist-packages/h5py/__init__.py:36: FutureWarning: Conversion of the second argument of issubdtype from `float` to `np.floating` is deprecated. In future, it will be treated as `np.float64 == np.dtype(float).type`.\n",
      "  from ._conv import register_converters as _register_converters\n",
      "Using TensorFlow backend.\n"
     ]
    }
   ],
   "source": [
    "from cleanse import separateUserContent,separateAllContent\n",
    "from random import shuffle, randint\n",
    "from gensim.models import word2vec\n",
    "from gensim.models import KeyedVectors\n",
    "import matplotlib.pyplot as plt\n",
    "from keras.preprocessing.sequence import pad_sequences\n",
    "from keras.layers import Input, Dense ,SimpleRNN, Embedding, Activation, LSTM, GRU,Bidirectional,GlobalMaxPooling1D,Dot,Lambda,Add,Conv1D\n",
    "from keras.models import Model,  Sequential, load_model,model_from_json\n",
    "from keras import backend as K\n",
    "from keras.callbacks import ModelCheckpoint"
   ]
  },
  {
   "cell_type": "code",
   "execution_count": 3,
   "metadata": {},
   "outputs": [
    {
     "name": "stdout",
     "output_type": "stream",
     "text": [
      "['我的T102H一直重開機不能用 平板電腦説找筆電處理IMG_0264.JPG IMG_0265.JPG像平板那款已跑10分鐘了 一直說處理更新', '目前可能是在更新 建議您先等他跑完']\n"
     ]
    }
   ],
   "source": [
    "tmp_tup_df =pd.read_pickle(\"validation_tup_list.pkl\")\n",
    "validation_tup_list =tmp_tup_df.values.tolist()\n",
    "print(validation_tup_list[0])"
   ]
  },
  {
   "cell_type": "code",
   "execution_count": 4,
   "metadata": {},
   "outputs": [],
   "source": [
    "vec_model = word2vec.Word2Vec.load(\"word2vec.model\")"
   ]
  },
  {
   "cell_type": "code",
   "execution_count": 5,
   "metadata": {},
   "outputs": [],
   "source": [
    "f = open(\"word_index_dic.pkl\",\"rb\")\n",
    "word_index = pickle.load(f)\n",
    "f.close()"
   ]
  },
  {
   "cell_type": "code",
   "execution_count": 6,
   "metadata": {},
   "outputs": [],
   "source": [
    "test_ans_num = 99\n",
    "tmp_df =pd.read_pickle(\"candidate_100_ans.pkl\")#讀取對每個問題的100個答案\n",
    "test_ans_set =tmp_df.values.tolist()\n",
    "\n"
   ]
  },
  {
   "cell_type": "code",
   "execution_count": 7,
   "metadata": {},
   "outputs": [
    {
     "name": "stdout",
     "output_type": "stream",
     "text": [
      "通常是5天不包含假日\n"
     ]
    }
   ],
   "source": [
    "print((test_ans_set[6][99]))"
   ]
  },
  {
   "cell_type": "code",
   "execution_count": 8,
   "metadata": {},
   "outputs": [],
   "source": [
    "def makeTestQuesFeatuers(vec_model,word_index):\n",
    "    docs = []\n",
    "\n",
    "   \n",
    "            \n",
    "    for i in range(len(validation_tup_list)):\n",
    "        list1 = jieba.cut(validation_tup_list[i][0], cut_all = False)\n",
    "    \n",
    "        docs.append(list(list1))\n",
    "\n",
    "   \n",
    "   \n",
    "\n",
    "    encoded_docs = []\n",
    "    for list10 in docs:\n",
    "        list_temp = []\n",
    "        for word in list10:\n",
    "            if word in vec_model.wv.vocab:\n",
    "                list_temp.append(word_index[word])\n",
    "        encoded_docs.append(list_temp)\n",
    "\n",
    "    #print(encoded_docs[0])\n",
    "    max_length = 40\n",
    "    padded_docs_list = pad_sequences(encoded_docs, maxlen = max_length, padding = 'post')\n",
    "\n",
    "    padded_docs = np.array(padded_docs_list)\n",
    "\n",
    "    return padded_docs\n",
    "\n",
    "def makeTestAnsFeatures(vec_model,word_index, test_num):\n",
    "    docs = []\n",
    "\n",
    "   \n",
    "            \n",
    "    for i in range(len(test_ans_set)):\n",
    "        list1 = jieba.cut(test_ans_set[i][test_num], cut_all = False)\n",
    "    \n",
    "        docs.append(list(list1))\n",
    "\n",
    "   \n",
    "   \n",
    "\n",
    "    encoded_docs = []\n",
    "    for list10 in docs:\n",
    "        list_temp = []\n",
    "        for word in list10:\n",
    "            if word in vec_model.wv.vocab:\n",
    "                list_temp.append(word_index[word])\n",
    "        encoded_docs.append(list_temp)\n",
    "\n",
    "    #print(encoded_docs[0])\n",
    "    max_length = 40\n",
    "    padded_docs_list = pad_sequences(encoded_docs, maxlen = max_length, padding = 'post')\n",
    "\n",
    "    padded_docs = np.array(padded_docs_list)\n",
    "\n",
    "    return padded_docs\n"
   ]
  },
  {
   "cell_type": "code",
   "execution_count": 9,
   "metadata": {},
   "outputs": [
    {
     "name": "stderr",
     "output_type": "stream",
     "text": [
      "Building prefix dict from the default dictionary ...\n",
      "Loading model from cache /tmp/jieba.cache\n",
      "Loading model cost 0.471 seconds.\n",
      "Prefix dict has been built succesfully.\n"
     ]
    }
   ],
   "source": [
    "test_q_fea = makeTestQuesFeatuers(vec_model, word_index)#產生出的矩陣是（ ,40)\n",
    "test_a_fea = []\n",
    "for i in range(test_ans_num+1): #有100個答案的FEATURE 產生出的矩陣是（100, , 40)有100組答案每一組答案是(,40)\n",
    "    tmp_list = makeTestAnsFeatures(vec_model,word_index,i)\n",
    "    test_a_fea.append(tmp_list)"
   ]
  },
  {
   "cell_type": "code",
   "execution_count": 10,
   "metadata": {},
   "outputs": [
    {
     "name": "stdout",
     "output_type": "stream",
     "text": [
      "100\n"
     ]
    }
   ],
   "source": [
    "print(len(test_a_fea))"
   ]
  },
  {
   "cell_type": "code",
   "execution_count": 11,
   "metadata": {},
   "outputs": [],
   "source": [
    "json_file = open(\"model_margin_0.1_epo_10_2.json\", 'r')#讀取MODEL\n",
    "loaded_model_json = json_file.read()\n",
    "json_file.close()\n",
    "model = model_from_json(loaded_model_json)"
   ]
  },
  {
   "cell_type": "code",
   "execution_count": 12,
   "metadata": {},
   "outputs": [],
   "source": [
    "model.load_weights(filepath = \"weights_best_2.hdf5\")\n"
   ]
  },
  {
   "cell_type": "code",
   "execution_count": 13,
   "metadata": {},
   "outputs": [],
   "source": [
    "ans = model.predict([test_q_fea,test_a_fea[0],test_a_fea[0]])#先預測第一句答案[RESULT , COS_POS COS_NEG因為要CONCAT\n",
    "ans_cos_np = np.array(ans[1]).reshape((len(ans[1]),1))#從 (1,) to ( , 1)\n",
    "#ans_neg_np = np.array(ans[2]).reshape((len(ans[1]),1))"
   ]
  },
  {
   "cell_type": "code",
   "execution_count": null,
   "metadata": {},
   "outputs": [
    {
     "name": "stdout",
     "output_type": "stream",
     "text": [
      "1\n",
      "2\n",
      "3\n",
      "4\n",
      "5\n",
      "6\n",
      "7\n",
      "8\n",
      "9\n",
      "10\n",
      "11\n",
      "12\n",
      "13\n",
      "14\n",
      "15\n",
      "16\n",
      "17\n",
      "18\n",
      "19\n",
      "20\n",
      "21\n",
      "22\n",
      "23\n",
      "24\n",
      "25\n",
      "26\n",
      "27\n",
      "28\n",
      "29\n",
      "30\n",
      "31\n",
      "32\n",
      "33\n",
      "34\n",
      "35\n",
      "36\n",
      "37\n",
      "38\n",
      "39\n",
      "40\n",
      "41\n",
      "42\n",
      "43\n",
      "44\n",
      "45\n",
      "46\n",
      "47\n",
      "48\n",
      "49\n",
      "50\n",
      "51\n",
      "52\n",
      "53\n",
      "54\n",
      "55\n",
      "56\n",
      "57\n",
      "58\n",
      "59\n",
      "60\n",
      "61\n",
      "62\n",
      "63\n",
      "64\n",
      "65\n",
      "66\n",
      "67\n",
      "68\n",
      "69\n",
      "70\n",
      "71\n",
      "72\n",
      "73\n",
      "74\n",
      "75\n",
      "76\n",
      "77\n",
      "78\n",
      "79\n",
      "80\n",
      "81\n",
      "82\n",
      "83\n",
      "84\n",
      "85\n",
      "86\n",
      "87\n",
      "88\n",
      "89\n",
      "90\n",
      "91\n",
      "92\n",
      "93\n",
      "94\n"
     ]
    }
   ],
   "source": [
    "for i in range(1,test_ans_num+1):#predict 剩下的 大約15分\n",
    "    ans = model.predict([test_q_fea,test_a_fea[i],test_a_fea[i]])\n",
    "    tmp_cos_np = np.array(ans[1]).reshape((len(ans[1]),1))\n",
    "    ans_cos_np = np.concatenate((ans_cos_np,tmp_cos_np),axis = 1)#把答案串起來 ( ,100)\n",
    "    print(i)"
   ]
  },
  {
   "cell_type": "code",
   "execution_count": null,
   "metadata": {},
   "outputs": [],
   "source": [
    "true_ans_np = ans_cos_np "
   ]
  },
  {
   "cell_type": "code",
   "execution_count": null,
   "metadata": {},
   "outputs": [],
   "source": [
    "'''true_ans = []\n",
    "for i in range(len(true_ans_np)):#把最大的位置記下來 \n",
    "    max_num = true_ans_np[i][0]\n",
    "    max_ind = 0\n",
    "    for j in range(1,test_ans_num+1):\n",
    "        if(true_ans_np[i][j] > max_num):\n",
    "            max_ind = j\n",
    "            max_num = true_ans_np[i][j]\n",
    "    true_ans.append(max_ind)'''"
   ]
  },
  {
   "cell_type": "code",
   "execution_count": null,
   "metadata": {},
   "outputs": [],
   "source": [
    "sorted_candidate_ans = []\n",
    "for i in range(len(true_ans_np)):\n",
    "    temp_list = []\n",
    "    for j in range(0, test_ans_num+1):\n",
    "        temp_list.append((test_ans_set[i][j],true_ans_np[i][j]))\n",
    "    temp_list.sort(key=lambda tup: tup[1], reverse = True)\n",
    "    sorted_candidate_ans.append(temp_list)\n",
    "    "
   ]
  },
  {
   "cell_type": "code",
   "execution_count": null,
   "metadata": {},
   "outputs": [],
   "source": [
    "print(test_ans_set[5][99] + \" \" + str(true_ans_np[5][99]))\n",
    "sorted_candidate_ans[5][10][1]"
   ]
  },
  {
   "cell_type": "code",
   "execution_count": null,
   "metadata": {},
   "outputs": [],
   "source": []
  },
  {
   "cell_type": "code",
   "execution_count": null,
   "metadata": {},
   "outputs": [],
   "source": [
    "sum = 0\n",
    "for i in range(len(sorted_candidate_ans)):\n",
    "    if sorted_candidate_ans[i][0][1] == true_ans_np[i][99]:#最大的跟真實的答案一樣\n",
    "        sum += 1\n",
    "accuracy = sum / len(sorted_candidate_ans)\n",
    "print(len(true_ans_np))\n",
    "print(accuracy)"
   ]
  },
  {
   "cell_type": "code",
   "execution_count": null,
   "metadata": {},
   "outputs": [],
   "source": [
    "sum = 0\n",
    "for i in range(len(sorted_candidate_ans)):\n",
    "    if sorted_candidate_ans[i][4][1] <= true_ans_np[i][99]:#真實的答案在第五明之前\n",
    "        sum += 1\n",
    "accuracy = sum / len(sorted_candidate_ans)\n",
    "print(len(sorted_candidate_ans))\n",
    "print(accuracy)"
   ]
  },
  {
   "cell_type": "code",
   "execution_count": null,
   "metadata": {},
   "outputs": [],
   "source": [
    "sum = 0\n",
    "for i in range(len(sorted_candidate_ans)):\n",
    "    if sorted_candidate_ans[i][9][1] <= true_ans_np[i][99]:\n",
    "        sum += 1\n",
    "accuracy = sum / len(sorted_candidate_ans)\n",
    "print(len(sorted_candidate_ans))\n",
    "print(accuracy)"
   ]
  },
  {
   "cell_type": "code",
   "execution_count": null,
   "metadata": {},
   "outputs": [],
   "source": [
    "'''sum = 0\n",
    "for i in true_ans:#正確答案是在最後一個\n",
    "    if i == 99:\n",
    "        sum+=1\n",
    "accuracy = sum / len(true_ans)\n",
    "print(accuracy)'''"
   ]
  },
  {
   "cell_type": "code",
   "execution_count": null,
   "metadata": {},
   "outputs": [],
   "source": [
    "with open(\"Output_test2.txt\", \"w\") as text_file:\n",
    "    for i in range(0, 10):\n",
    "        text_file.write(\"Question %d : %s\\n\" % (i+1, validation_tup_list[i][0]))\n",
    "        text_file.write(\"True answer %d : %s   %f \\n\" % (i+1, validation_tup_list[i][1], true_ans_np[i][99]))\n",
    "        text_file.write(\"Ans:  \\n\\n\")\n",
    "        for j in range(0,10):\n",
    "            text_file.write(\"%d. %s %f\\n\" % (j, sorted_candidate_ans[i][j][0], sorted_candidate_ans[i][j][1]))\n",
    "    \n",
    "        text_file.write(\"===========================\\n\")"
   ]
  },
  {
   "cell_type": "code",
   "execution_count": null,
   "metadata": {},
   "outputs": [],
   "source": []
  }
 ],
 "metadata": {
  "kernelspec": {
   "display_name": "Python 3",
   "language": "python",
   "name": "python3"
  },
  "language_info": {
   "codemirror_mode": {
    "name": "ipython",
    "version": 3
   },
   "file_extension": ".py",
   "mimetype": "text/x-python",
   "name": "python",
   "nbconvert_exporter": "python",
   "pygments_lexer": "ipython3",
   "version": "3.5.2"
  }
 },
 "nbformat": 4,
 "nbformat_minor": 2
}
