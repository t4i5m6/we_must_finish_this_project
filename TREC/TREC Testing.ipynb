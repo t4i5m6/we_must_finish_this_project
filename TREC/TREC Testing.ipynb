{
 "cells": [
  {
   "cell_type": "code",
   "execution_count": 1,
   "metadata": {},
   "outputs": [
    {
     "name": "stderr",
     "output_type": "stream",
     "text": [
      "Using TensorFlow backend.\n"
     ]
    }
   ],
   "source": [
    "import pickle\n",
    "import re\n",
    "import random\n",
    "import numpy as np\n",
    "from gensim.models import word2vec\n",
    "from keras.models import load_model\n",
    "from keras.preprocessing.sequence import pad_sequences"
   ]
  },
  {
   "cell_type": "code",
   "execution_count": 2,
   "metadata": {},
   "outputs": [],
   "source": [
    "def readFile(fname):\n",
    "    f = open(fname, \"rb\")\n",
    "    result = pickle.load(f)\n",
    "    f.close()\n",
    "    \n",
    "    return result"
   ]
  },
  {
   "cell_type": "code",
   "execution_count": 3,
   "metadata": {},
   "outputs": [],
   "source": [
    "def trecPreprocessing(fname):\n",
    "    with open(fname, 'r') as f:\n",
    "        content = f.readlines()\n",
    "    content = [x.strip() for x in content] \n",
    "    content = [w.replace('\\t', ' ') for w in content]\n",
    "\n",
    "    trec = []\n",
    "\n",
    "    tmp_trec = []\n",
    "    tmp_dic = {\"p\": [], \"n\": []}\n",
    "\n",
    "    for index in range(len(content)):\n",
    "        if (\"<QApairs id=\" in content[index] and index != 1):\n",
    "            # If questions have no positive or no negative ans, discard it.\n",
    "            if ((len(tmp_dic[\"p\"]) != 0) and (len(tmp_dic[\"n\"]) != 0)):\n",
    "                tmp_trec.append(tmp_dic)\n",
    "                trec.append(tmp_trec)\n",
    "\n",
    "            tmp_trec = []\n",
    "            tmp_dic = {\"p\": [], \"n\": []}\n",
    "\n",
    "        elif (content[index] == \"<question>\"):\n",
    "            tmp_trec.append(content[index + 1].lower())\n",
    "        elif (content[index] == \"<positive>\"):\n",
    "            tmp_dic[\"p\"].append(content[index + 1].lower())\n",
    "        elif (content[index] == \"<negative>\"):\n",
    "            tmp_dic[\"n\"].append(content[index + 1].lower())\n",
    "            \n",
    "    # Last round\n",
    "    if ((len(tmp_dic[\"p\"]) != 0) and (len(tmp_dic[\"n\"]) != 0)):\n",
    "        tmp_trec.append(tmp_dic)\n",
    "        trec.append(tmp_trec)\n",
    "    \n",
    "    return trec"
   ]
  },
  {
   "cell_type": "code",
   "execution_count": 4,
   "metadata": {},
   "outputs": [],
   "source": [
    "def tokenize(text):\n",
    "    pattern = re.compile('[a-zA-Z]+')\n",
    "    return (match.group(0) for match in pattern.finditer(text))\n",
    "\n",
    "def makeValidationFeatuers(trec_val, vec_model, word_index):\n",
    "    \n",
    "    q_docs = []\n",
    "    a_docs = []\n",
    "    a_label = []\n",
    "    \n",
    "    for e in trec_val:\n",
    "        tmp_q_docs = []\n",
    "        all_a_docs = []\n",
    "        all_a_label = []\n",
    "        \n",
    "        q = list(tokenize(e[0]))\n",
    "        \n",
    "        p = e[1]['p']\n",
    "        #p = p[random.randrange(len(p))]\n",
    "        #p = list(tokenize(p))\n",
    "        \n",
    "        n = e[1]['n']\n",
    "        #n = n[random.randrange(len(n))]\n",
    "        #n = list(tokenize(n))\n",
    "        \n",
    "        for token in q:\n",
    "            if (token in vec_model.wv.vocab):\n",
    "                \n",
    "                tmp_q_docs.append(word_index[token])\n",
    "                \n",
    "        for sentence in p:\n",
    "            tmp_a_docs = []\n",
    "            all_a_label.append(\"P\")\n",
    "            current_sentence = list(tokenize(sentence))\n",
    "            for token in current_sentence:\n",
    "                if (token in vec_model.wv.vocab):\n",
    "                    tmp_a_docs.append(word_index[token])\n",
    "            all_a_docs.append(tmp_a_docs)    \n",
    "            \n",
    "        for sentence in n:\n",
    "            tmp_a_docs = []\n",
    "            all_a_label.append(\"N\")\n",
    "            current_sentence = list(tokenize(sentence))\n",
    "            for token in current_sentence:\n",
    "                if (token in vec_model.wv.vocab):\n",
    "                    tmp_a_docs.append(word_index[token])\n",
    "            all_a_docs.append(tmp_a_docs)\n",
    "            \n",
    "        q_docs.append(tmp_q_docs)\n",
    "        a_docs.append(all_a_docs)\n",
    "        a_label.append(all_a_label)\n",
    "        \n",
    "    return q_docs, a_docs, a_label"
   ]
  },
  {
   "cell_type": "code",
   "execution_count": 5,
   "metadata": {},
   "outputs": [],
   "source": [
    "def pad(q_docs, a_docs):\n",
    "    \n",
    "    a_pad = []\n",
    "    max_length = 40\n",
    "    \n",
    "    q_pad = pad_sequences(q_docs, maxlen=max_length, padding='post')\n",
    "    for single_doc in a_docs:\n",
    "        tmp_a_pad = pad_sequences(single_doc, maxlen=max_length, padding='post')\n",
    "        a_pad.append(tmp_a_pad)\n",
    "    return q_pad, a_pad"
   ]
  },
  {
   "cell_type": "code",
   "execution_count": 6,
   "metadata": {},
   "outputs": [],
   "source": [
    "trec_validation = trecPreprocessing(\"dev-less-than-40.manual-edit.xml\")"
   ]
  },
  {
   "cell_type": "code",
   "execution_count": 7,
   "metadata": {},
   "outputs": [],
   "source": [
    "word_index = readFile(\"word_index_dic.pkl\")\n",
    "vec_model = word2vec.Word2Vec.load(\"word2vec.model\")"
   ]
  },
  {
   "cell_type": "code",
   "execution_count": 8,
   "metadata": {},
   "outputs": [],
   "source": [
    "#q_docs, p_docs, n_docs = makeValidationFeatuers(trec_validation, vec_model, word_index)\n",
    "q_docs, a_docs, a_label = makeValidationFeatuers(trec_validation, vec_model, word_index)\n",
    "#q_pad, p_pad, n_pad = pad(q_docs, p_docs, n_docs)\n",
    "q_pad, a_pad = pad(q_docs, a_docs)"
   ]
  },
  {
   "cell_type": "code",
   "execution_count": 9,
   "metadata": {},
   "outputs": [],
   "source": [
    "model = load_model(\"weights_best_2.hdf5\") "
   ]
  },
  {
   "cell_type": "code",
   "execution_count": 10,
   "metadata": {
    "scrolled": true
   },
   "outputs": [],
   "source": [
    "#model.predict([q_pad, p_pad, n_pad])\n",
    "for i in range(len(q_pad)):\n",
    "    all_pos_cos_sim = []\n",
    "    for single_a in a_pad[i]:\n",
    "        pos_cos_sim = model.predict([np.reshape(q_pad[0], (1, 40)), np.reshape(single_a, (1, 40)), np.reshape(single_a, (1, 40))])[1][0][0]\n",
    "        all_pos_cos_sim.append(pos_cos_sim)\n",
    "    all_pos_cos_sim, a_label[i] = zip(*sorted(zip(all_pos_cos_sim, a_label[i]), reverse=True))"
   ]
  },
  {
   "cell_type": "code",
   "execution_count": 36,
   "metadata": {},
   "outputs": [],
   "source": [
    "def calMAPAndMRR(a_label):\n",
    "    MAP = []\n",
    "    MRR = []\n",
    "    \n",
    "    for i in range(len(a_label)):\n",
    "        positive_count = a_label[i].count(\"P\")\n",
    "        positive_index = [index for index, value in enumerate(a_label[i]) if value == \"P\"]\n",
    "        # MAP\n",
    "        tmp_map = 0\n",
    "        for j in range(len(positive_index)):\n",
    "            tmp_map = tmp_map + ((j + 1) / (positive_index[j] + 1))\n",
    "        tmp_map = tmp_map / positive_count\n",
    "        MAP.append(tmp_map)\n",
    "        \n",
    "        #MRR \n",
    "        # First occurrences of positive\n",
    "        positive_first_count = a_label[i].index(\"P\") + 1\n",
    "        tmp_mrr = 1 / positive_first_count\n",
    "        #print(\"tmp_mrr\", tmp_mrr)\n",
    "        MRR.append(tmp_mrr)\n",
    "        \n",
    "    return MAP, MRR    "
   ]
  },
  {
   "cell_type": "code",
   "execution_count": 37,
   "metadata": {},
   "outputs": [],
   "source": [
    "MAP, MRR = calMAPAndMRR(a_label)"
   ]
  },
  {
   "cell_type": "code",
   "execution_count": 40,
   "metadata": {},
   "outputs": [
    {
     "data": {
      "text/plain": [
       "0.42267853150720824"
      ]
     },
     "execution_count": 40,
     "metadata": {},
     "output_type": "execute_result"
    }
   ],
   "source": [
    "# MAP of the whole data\n",
    "sum(MAP) / len(MAP)"
   ]
  },
  {
   "cell_type": "code",
   "execution_count": 41,
   "metadata": {},
   "outputs": [
    {
     "data": {
      "text/plain": [
       "0.44990903449703146"
      ]
     },
     "execution_count": 41,
     "metadata": {},
     "output_type": "execute_result"
    }
   ],
   "source": [
    "# MRR of the whole data\n",
    "sum(MRR) / len(MRR)"
   ]
  }
 ],
 "metadata": {
  "kernelspec": {
   "display_name": "Python 3",
   "language": "python",
   "name": "python3"
  },
  "language_info": {
   "codemirror_mode": {
    "name": "ipython",
    "version": 3
   },
   "file_extension": ".py",
   "mimetype": "text/x-python",
   "name": "python",
   "nbconvert_exporter": "python",
   "pygments_lexer": "ipython3",
   "version": "3.5.2"
  }
 },
 "nbformat": 4,
 "nbformat_minor": 2
}
