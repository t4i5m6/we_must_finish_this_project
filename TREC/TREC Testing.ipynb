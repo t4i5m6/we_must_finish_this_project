{
 "cells": [
  {
   "cell_type": "code",
   "execution_count": 33,
   "metadata": {},
   "outputs": [],
   "source": [
    "import pickle\n",
    "import re\n",
    "import random\n",
    "import numpy as np\n",
    "from gensim.models import word2vec\n",
    "from keras.models import load_model\n",
    "from keras.preprocessing.sequence import pad_sequences"
   ]
  },
  {
   "cell_type": "code",
   "execution_count": 2,
   "metadata": {},
   "outputs": [],
   "source": [
    "def readFile(fname):\n",
    "    f = open(fname, \"rb\")\n",
    "    result = pickle.load(f)\n",
    "    f.close()\n",
    "    \n",
    "    return result"
   ]
  },
  {
   "cell_type": "code",
   "execution_count": 3,
   "metadata": {},
   "outputs": [],
   "source": [
    "def trecPreprocessing(fname):\n",
    "    with open(fname, 'r') as f:\n",
    "        content = f.readlines()\n",
    "    content = [x.strip() for x in content] \n",
    "    content = [w.replace('\\t', ' ') for w in content]\n",
    "\n",
    "    trec = []\n",
    "\n",
    "    tmp_trec = []\n",
    "    tmp_dic = {\"p\": [], \"n\": []}\n",
    "\n",
    "    for index in range(len(content)):\n",
    "        if (\"<QApairs id=\" in content[index] and index != 1):\n",
    "            # If questions have no positive or no negative ans, discard it.\n",
    "            if ((len(tmp_dic[\"p\"]) != 0) and (len(tmp_dic[\"n\"]) != 0)):\n",
    "                tmp_trec.append(tmp_dic)\n",
    "                trec.append(tmp_trec)\n",
    "\n",
    "            tmp_trec = []\n",
    "            tmp_dic = {\"p\": [], \"n\": []}\n",
    "\n",
    "        elif (content[index] == \"<question>\"):\n",
    "            tmp_trec.append(content[index + 1].lower())\n",
    "        elif (content[index] == \"<positive>\"):\n",
    "            tmp_dic[\"p\"].append(content[index + 1].lower())\n",
    "        elif (content[index] == \"<negative>\"):\n",
    "            tmp_dic[\"n\"].append(content[index + 1].lower())\n",
    "            \n",
    "    # Last round\n",
    "    if ((len(tmp_dic[\"p\"]) != 0) and (len(tmp_dic[\"n\"]) != 0)):\n",
    "        tmp_trec.append(tmp_dic)\n",
    "        trec.append(tmp_trec)\n",
    "    \n",
    "    return trec"
   ]
  },
  {
   "cell_type": "code",
   "execution_count": 4,
   "metadata": {},
   "outputs": [
    {
     "data": {
      "text/plain": [
       "\"\\ndef tokenize(text):\\n    pattern = re.compile('[a-zA-Z]+')\\n    return (match.group(0) for match in pattern.finditer(text))\\n\\ndef makeValidationFeatuers(trec_val, vec_model, word_index):\\n    \\n    q_docs = []\\n    p_docs = []\\n    n_docs = []\\n    for e in trec_val:\\n        tmp_q_docs = []\\n        tmp_p_docs = []\\n        tmp_n_docs = []\\n        \\n        q = list(tokenize(e[0]))\\n        \\n        p = e[1]['p']\\n        p = p[random.randrange(len(p))]\\n        p = list(tokenize(p))\\n        \\n        n = e[1]['n']\\n        n = n[random.randrange(len(n))]\\n        n = list(tokenize(n))\\n        \\n        for token in q:\\n            if (token in vec_model.wv.vocab):\\n                \\n                tmp_q_docs.append(word_index[token])\\n                \\n        for token in p:\\n            if (token in vec_model.wv.vocab):\\n                tmp_p_docs.append(word_index[token])\\n                    \\n        for token in n:\\n            if (token in vec_model.wv.vocab):\\n                tmp_n_docs.append(word_index[token])  \\n                \\n        q_docs.append(tmp_q_docs)\\n        p_docs.append(tmp_p_docs)\\n        n_docs.append(tmp_n_docs)\\n        \\n    return q_docs, p_docs, n_docs    \\n\""
      ]
     },
     "execution_count": 4,
     "metadata": {},
     "output_type": "execute_result"
    }
   ],
   "source": [
    "def tokenize(text):\n",
    "    pattern = re.compile('[a-zA-Z]+')\n",
    "    return (match.group(0) for match in pattern.finditer(text))\n",
    "\n",
    "def makeValidationFeatuers(trec_val, vec_model, word_index):\n",
    "    \n",
    "    q_docs = []\n",
    "    a_docs = []\n",
    "    for e in trec_val:\n",
    "        tmp_q_docs = []\n",
    "        all_a_docs = []\n",
    "        \n",
    "        q = list(tokenize(e[0]))\n",
    "        \n",
    "        p = e[1]['p']\n",
    "        #p = p[random.randrange(len(p))]\n",
    "        #p = list(tokenize(p))\n",
    "        \n",
    "        n = e[1]['n']\n",
    "        #n = n[random.randrange(len(n))]\n",
    "        #n = list(tokenize(n))\n",
    "        \n",
    "        for token in q:\n",
    "            if (token in vec_model.wv.vocab):\n",
    "                \n",
    "                tmp_q_docs.append(word_index[token])\n",
    "                \n",
    "        for sentence in p:\n",
    "            tmp_a_docs = []\n",
    "            current_sentence = list(tokenize(sentence))\n",
    "            for token in current_sentence:\n",
    "                if (token in vec_model.wv.vocab):\n",
    "                    tmp_a_docs.append(word_index[token])\n",
    "            all_a_docs.append(tmp_a_docs)    \n",
    "            \n",
    "        for sentence in n:\n",
    "            tmp_a_docs = []\n",
    "            current_sentence = list(tokenize(sentence))\n",
    "            for token in current_sentence:\n",
    "                if (token in vec_model.wv.vocab):\n",
    "                    tmp_a_docs.append(word_index[token])\n",
    "            all_a_docs.append(tmp_a_docs)\n",
    "            \n",
    "        q_docs.append(tmp_q_docs)\n",
    "        a_docs.append(all_a_docs)\n",
    "        \n",
    "    return q_docs, a_docs   \n",
    "\n",
    "\"\"\"\n",
    "def tokenize(text):\n",
    "    pattern = re.compile('[a-zA-Z]+')\n",
    "    return (match.group(0) for match in pattern.finditer(text))\n",
    "\n",
    "def makeValidationFeatuers(trec_val, vec_model, word_index):\n",
    "    \n",
    "    q_docs = []\n",
    "    p_docs = []\n",
    "    n_docs = []\n",
    "    for e in trec_val:\n",
    "        tmp_q_docs = []\n",
    "        tmp_p_docs = []\n",
    "        tmp_n_docs = []\n",
    "        \n",
    "        q = list(tokenize(e[0]))\n",
    "        \n",
    "        p = e[1]['p']\n",
    "        p = p[random.randrange(len(p))]\n",
    "        p = list(tokenize(p))\n",
    "        \n",
    "        n = e[1]['n']\n",
    "        n = n[random.randrange(len(n))]\n",
    "        n = list(tokenize(n))\n",
    "        \n",
    "        for token in q:\n",
    "            if (token in vec_model.wv.vocab):\n",
    "                \n",
    "                tmp_q_docs.append(word_index[token])\n",
    "                \n",
    "        for token in p:\n",
    "            if (token in vec_model.wv.vocab):\n",
    "                tmp_p_docs.append(word_index[token])\n",
    "                    \n",
    "        for token in n:\n",
    "            if (token in vec_model.wv.vocab):\n",
    "                tmp_n_docs.append(word_index[token])  \n",
    "                \n",
    "        q_docs.append(tmp_q_docs)\n",
    "        p_docs.append(tmp_p_docs)\n",
    "        n_docs.append(tmp_n_docs)\n",
    "        \n",
    "    return q_docs, p_docs, n_docs    \n",
    "\"\"\""
   ]
  },
  {
   "cell_type": "code",
   "execution_count": 5,
   "metadata": {},
   "outputs": [
    {
     "data": {
      "text/plain": [
       "\"\\ndef pad(q_docs, p_docs, n_docs):\\n    \\n    max_length = 40\\n    \\n    q_pad = pad_sequences(q_docs, maxlen=max_length, padding='post')\\n    p_pad = pad_sequences(p_docs, maxlen=max_length, padding='post')\\n    n_pad = pad_sequences(n_docs, maxlen=max_length, padding='post')\\n    \\n    return q_pad, p_pad, n_pad\\n\""
      ]
     },
     "execution_count": 5,
     "metadata": {},
     "output_type": "execute_result"
    }
   ],
   "source": [
    "\n",
    "def pad(q_docs, a_docs):\n",
    "    \n",
    "    a_pad = []\n",
    "    max_length = 40\n",
    "    \n",
    "    q_pad = pad_sequences(q_docs, maxlen=max_length, padding='post')\n",
    "    for single_doc in a_docs:\n",
    "        tmp_a_pad = pad_sequences(single_doc, maxlen=max_length, padding='post')\n",
    "        a_pad.append(tmp_a_pad)\n",
    "    return q_pad, a_pad\n",
    "\n",
    "\n",
    "\"\"\"\n",
    "def pad(q_docs, p_docs, n_docs):\n",
    "    \n",
    "    max_length = 40\n",
    "    \n",
    "    q_pad = pad_sequences(q_docs, maxlen=max_length, padding='post')\n",
    "    p_pad = pad_sequences(p_docs, maxlen=max_length, padding='post')\n",
    "    n_pad = pad_sequences(n_docs, maxlen=max_length, padding='post')\n",
    "    \n",
    "    return q_pad, p_pad, n_pad\n",
    "\"\"\""
   ]
  },
  {
   "cell_type": "code",
   "execution_count": 6,
   "metadata": {},
   "outputs": [],
   "source": [
    "trec_validation = trecPreprocessing(\"dev-less-than-40.manual-edit.xml\")"
   ]
  },
  {
   "cell_type": "code",
   "execution_count": 7,
   "metadata": {},
   "outputs": [],
   "source": [
    "word_index = readFile(\"word_index_dic.pkl\")\n",
    "vec_model = word2vec.Word2Vec.load(\"word2vec.model\")"
   ]
  },
  {
   "cell_type": "code",
   "execution_count": 37,
   "metadata": {},
   "outputs": [],
   "source": [
    "#q_docs, p_docs, n_docs = makeValidationFeatuers(trec_validation, vec_model, word_index)\n",
    "q_docs, a_docs = makeValidationFeatuers(trec_validation, vec_model, word_index)\n",
    "#q_pad, p_pad, n_pad = pad(q_docs, p_docs, n_docs)\n",
    "q_pad, a_pad = pad(q_docs, a_docs)"
   ]
  },
  {
   "cell_type": "code",
   "execution_count": 9,
   "metadata": {},
   "outputs": [],
   "source": [
    "model = load_model(\"weights_best_2.hdf5\") "
   ]
  },
  {
   "cell_type": "code",
   "execution_count": 41,
   "metadata": {},
   "outputs": [
    {
     "data": {
      "text/plain": [
       "(40,)"
      ]
     },
     "execution_count": 41,
     "metadata": {},
     "output_type": "execute_result"
    }
   ],
   "source": [
    "q_pad[0].shape"
   ]
  },
  {
   "cell_type": "code",
   "execution_count": 16,
   "metadata": {
    "scrolled": true
   },
   "outputs": [
    {
     "data": {
      "text/plain": [
       "(40,)"
      ]
     },
     "execution_count": 16,
     "metadata": {},
     "output_type": "execute_result"
    }
   ],
   "source": [
    "a_pad[0][0]"
   ]
  },
  {
   "cell_type": "code",
   "execution_count": 42,
   "metadata": {
    "scrolled": true
   },
   "outputs": [
    {
     "ename": "ValueError",
     "evalue": "Error when checking : expected input_1 to have shape (40,) but got array with shape (1,)",
     "output_type": "error",
     "traceback": [
      "\u001b[0;31m---------------------------------------------------------------------------\u001b[0m",
      "\u001b[0;31mValueError\u001b[0m                                Traceback (most recent call last)",
      "\u001b[0;32m<ipython-input-42-44a72dc749cf>\u001b[0m in \u001b[0;36m<module>\u001b[0;34m()\u001b[0m\n\u001b[1;32m      1\u001b[0m \u001b[0;31m#model.predict([q_pad, p_pad, n_pad])\u001b[0m\u001b[0;34m\u001b[0m\u001b[0;34m\u001b[0m\u001b[0m\n\u001b[0;32m----> 2\u001b[0;31m \u001b[0mmodel\u001b[0m\u001b[0;34m.\u001b[0m\u001b[0mpredict\u001b[0m\u001b[0;34m(\u001b[0m\u001b[0;34m[\u001b[0m\u001b[0mq_pad\u001b[0m\u001b[0;34m[\u001b[0m\u001b[0;36m0\u001b[0m\u001b[0;34m]\u001b[0m\u001b[0;34m,\u001b[0m \u001b[0ma_pad\u001b[0m\u001b[0;34m[\u001b[0m\u001b[0;36m0\u001b[0m\u001b[0;34m]\u001b[0m\u001b[0;34m[\u001b[0m\u001b[0;36m0\u001b[0m\u001b[0;34m]\u001b[0m\u001b[0;34m,\u001b[0m \u001b[0ma_pad\u001b[0m\u001b[0;34m[\u001b[0m\u001b[0;36m0\u001b[0m\u001b[0;34m]\u001b[0m\u001b[0;34m[\u001b[0m\u001b[0;36m0\u001b[0m\u001b[0;34m]\u001b[0m\u001b[0;34m]\u001b[0m\u001b[0;34m)\u001b[0m\u001b[0;34m\u001b[0m\u001b[0m\n\u001b[0m",
      "\u001b[0;32m/usr/local/lib/python3.5/dist-packages/keras/engine/training.py\u001b[0m in \u001b[0;36mpredict\u001b[0;34m(self, x, batch_size, verbose, steps)\u001b[0m\n\u001b[1;32m   1815\u001b[0m         x = _standardize_input_data(x, self._feed_input_names,\n\u001b[1;32m   1816\u001b[0m                                     \u001b[0mself\u001b[0m\u001b[0;34m.\u001b[0m\u001b[0m_feed_input_shapes\u001b[0m\u001b[0;34m,\u001b[0m\u001b[0;34m\u001b[0m\u001b[0m\n\u001b[0;32m-> 1817\u001b[0;31m                                     check_batch_axis=False)\n\u001b[0m\u001b[1;32m   1818\u001b[0m         \u001b[0;32mif\u001b[0m \u001b[0mself\u001b[0m\u001b[0;34m.\u001b[0m\u001b[0mstateful\u001b[0m\u001b[0;34m:\u001b[0m\u001b[0;34m\u001b[0m\u001b[0m\n\u001b[1;32m   1819\u001b[0m             \u001b[0;32mif\u001b[0m \u001b[0mx\u001b[0m\u001b[0;34m[\u001b[0m\u001b[0;36m0\u001b[0m\u001b[0;34m]\u001b[0m\u001b[0;34m.\u001b[0m\u001b[0mshape\u001b[0m\u001b[0;34m[\u001b[0m\u001b[0;36m0\u001b[0m\u001b[0;34m]\u001b[0m \u001b[0;34m>\u001b[0m \u001b[0mbatch_size\u001b[0m \u001b[0;32mand\u001b[0m \u001b[0mx\u001b[0m\u001b[0;34m[\u001b[0m\u001b[0;36m0\u001b[0m\u001b[0;34m]\u001b[0m\u001b[0;34m.\u001b[0m\u001b[0mshape\u001b[0m\u001b[0;34m[\u001b[0m\u001b[0;36m0\u001b[0m\u001b[0;34m]\u001b[0m \u001b[0;34m%\u001b[0m \u001b[0mbatch_size\u001b[0m \u001b[0;34m!=\u001b[0m \u001b[0;36m0\u001b[0m\u001b[0;34m:\u001b[0m\u001b[0;34m\u001b[0m\u001b[0m\n",
      "\u001b[0;32m/usr/local/lib/python3.5/dist-packages/keras/engine/training.py\u001b[0m in \u001b[0;36m_standardize_input_data\u001b[0;34m(data, names, shapes, check_batch_axis, exception_prefix)\u001b[0m\n\u001b[1;32m    121\u001b[0m                             \u001b[0;34m': expected '\u001b[0m \u001b[0;34m+\u001b[0m \u001b[0mnames\u001b[0m\u001b[0;34m[\u001b[0m\u001b[0mi\u001b[0m\u001b[0;34m]\u001b[0m \u001b[0;34m+\u001b[0m \u001b[0;34m' to have shape '\u001b[0m \u001b[0;34m+\u001b[0m\u001b[0;34m\u001b[0m\u001b[0m\n\u001b[1;32m    122\u001b[0m                             \u001b[0mstr\u001b[0m\u001b[0;34m(\u001b[0m\u001b[0mshape\u001b[0m\u001b[0;34m)\u001b[0m \u001b[0;34m+\u001b[0m \u001b[0;34m' but got array with shape '\u001b[0m \u001b[0;34m+\u001b[0m\u001b[0;34m\u001b[0m\u001b[0m\n\u001b[0;32m--> 123\u001b[0;31m                             str(data_shape))\n\u001b[0m\u001b[1;32m    124\u001b[0m     \u001b[0;32mreturn\u001b[0m \u001b[0mdata\u001b[0m\u001b[0;34m\u001b[0m\u001b[0m\n\u001b[1;32m    125\u001b[0m \u001b[0;34m\u001b[0m\u001b[0m\n",
      "\u001b[0;31mValueError\u001b[0m: Error when checking : expected input_1 to have shape (40,) but got array with shape (1,)"
     ]
    }
   ],
   "source": [
    "#model.predict([q_pad, p_pad, n_pad])\n",
    "model.predict([q_pad[0], a_pad[0][0], a_pad[0][0]])"
   ]
  }
 ],
 "metadata": {
  "kernelspec": {
   "display_name": "Python 3",
   "language": "python",
   "name": "python3"
  },
  "language_info": {
   "codemirror_mode": {
    "name": "ipython",
    "version": 3
   },
   "file_extension": ".py",
   "mimetype": "text/x-python",
   "name": "python",
   "nbconvert_exporter": "python",
   "pygments_lexer": "ipython3",
   "version": "3.5.2"
  }
 },
 "nbformat": 4,
 "nbformat_minor": 2
}
