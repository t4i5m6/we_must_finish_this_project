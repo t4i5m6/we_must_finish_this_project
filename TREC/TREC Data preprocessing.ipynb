{
 "cells": [
  {
   "cell_type": "code",
   "execution_count": 1,
   "metadata": {},
   "outputs": [],
   "source": [
    "import re\n",
    "from nltk.corpus import stopwords\n",
    "from gensim.models import word2vec\n",
    "import pickle"
   ]
  },
  {
   "cell_type": "code",
   "execution_count": 2,
   "metadata": {},
   "outputs": [],
   "source": [
    "def trecPreprocessing(fname):\n",
    "    with open(fname, 'r') as f:\n",
    "        content = f.readlines()\n",
    "    content = [x.strip() for x in content] \n",
    "    content = [w.replace('\\t', ' ') for w in content]\n",
    "\n",
    "    trec = []\n",
    "\n",
    "    tmp_trec = []\n",
    "    tmp_dic = {\"p\": [], \"n\": []}\n",
    "\n",
    "    for index in range(len(content)):\n",
    "        if (\"<QApairs id=\" in content[index] and index != 1):\n",
    "            # If questions have no positive or no negative ans, discard it.\n",
    "            if ((len(tmp_dic[\"p\"]) != 0) and (len(tmp_dic[\"n\"]) != 0)):\n",
    "                tmp_trec.append(tmp_dic)\n",
    "                trec.append(tmp_trec)\n",
    "\n",
    "            tmp_trec = []\n",
    "            tmp_dic = {\"p\": [], \"n\": []}\n",
    "\n",
    "        elif (content[index] == \"<question>\"):\n",
    "            tmp_trec.append(content[index + 1].lower())\n",
    "        elif (content[index] == \"<positive>\"):\n",
    "            tmp_dic[\"p\"].append(content[index + 1].lower())\n",
    "        elif (content[index] == \"<negative>\"):\n",
    "            tmp_dic[\"n\"].append(content[index + 1].lower())\n",
    "            \n",
    "    # Last round\n",
    "    if ((len(tmp_dic[\"p\"]) != 0) and (len(tmp_dic[\"n\"]) != 0)):\n",
    "        tmp_trec.append(tmp_dic)\n",
    "        trec.append(tmp_trec)\n",
    "    \n",
    "    f = open(\"trec_train.pkl\", \"wb\")\n",
    "    pickle.dump(trec, f)\n",
    "    f.close()\n",
    "    \n",
    "    return trec"
   ]
  },
  {
   "cell_type": "code",
   "execution_count": 3,
   "metadata": {},
   "outputs": [],
   "source": [
    "def tokenize(text):\n",
    "    pattern = re.compile('[a-zA-Z]+')\n",
    "    return (match.group(0) for match in pattern.finditer(text))\n",
    "\n",
    "#print(list(tokenize(\"As a member of the white master tribe of South Africa , the author grew up thinking himself a `` Just White Man . \")))\n",
    "\n",
    "def genWord2vecModel(trec_train):\n",
    "    # Stopwords from NLTK\n",
    "    sw = stopwords.words(\"english\")\n",
    "    corpus = []\n",
    "    for e in trec_train:\n",
    "        tmp_corpus = []\n",
    "        \n",
    "        q = list(tokenize(e[0]))\n",
    "        p = e[1]['p']\n",
    "        n = e[1]['n']\n",
    "        \n",
    "        for token in q:\n",
    "            if (token not in sw):\n",
    "                tmp_corpus.append(token)\n",
    "                \n",
    "        for single_p in p:\n",
    "            token_list = list(tokenize(single_p))\n",
    "            for token in token_list:\n",
    "                if (token not in sw):\n",
    "                    tmp_corpus.append(token)  \n",
    "                    \n",
    "        for single_n in n:\n",
    "            token_list = list(tokenize(single_n))\n",
    "            for token in token_list:\n",
    "                if (token not in sw):\n",
    "                    tmp_corpus.append(token)  \n",
    "                \n",
    "        corpus.append(tmp_corpus)\n",
    "    \n",
    "    vec_model = word2vec.Word2Vec(corpus, sg=1, iter=4, size=250)#丟進word2vec\n",
    "    vec_model.save(\"word2vec.model\")\n",
    "    \n",
    "    return vec_model"
   ]
  },
  {
   "cell_type": "code",
   "execution_count": 4,
   "metadata": {},
   "outputs": [],
   "source": [
    "def wordIndexing(vec_model):\n",
    "    word_index = {} # 把WORD2VEC DIC 裡面的詞編號 \n",
    "\n",
    "    count = 1\n",
    "    for key in vec_model.wv.vocab.keys():\n",
    "        word_index[key] = count\n",
    "        count += 1\n",
    "    \n",
    "    #print(\"word_index = \", word_index)\n",
    "    \n",
    "    f = open(\"word_index_dic.pkl\", \"wb\")\n",
    "    pickle.dump(word_index, f)\n",
    "    f.close()"
   ]
  },
  {
   "cell_type": "code",
   "execution_count": 5,
   "metadata": {},
   "outputs": [],
   "source": [
    "trec_train = trecPreprocessing(\"train2393.cleanup.xml\")"
   ]
  },
  {
   "cell_type": "code",
   "execution_count": 6,
   "metadata": {},
   "outputs": [],
   "source": [
    "vec_model = genWord2vecModel(trec_train)"
   ]
  },
  {
   "cell_type": "code",
   "execution_count": 7,
   "metadata": {},
   "outputs": [],
   "source": [
    "wordIndexing(vec_model)"
   ]
  },
  {
   "cell_type": "code",
   "execution_count": null,
   "metadata": {},
   "outputs": [],
   "source": []
  }
 ],
 "metadata": {
  "kernelspec": {
   "display_name": "Python 3",
   "language": "python",
   "name": "python3"
  },
  "language_info": {
   "codemirror_mode": {
    "name": "ipython",
    "version": 3
   },
   "file_extension": ".py",
   "mimetype": "text/x-python",
   "name": "python",
   "nbconvert_exporter": "python",
   "pygments_lexer": "ipython3",
   "version": "3.5.2"
  }
 },
 "nbformat": 4,
 "nbformat_minor": 2
}
