{
 "cells": [
  {
   "cell_type": "code",
   "execution_count": 1,
   "metadata": {},
   "outputs": [],
   "source": [
    "import pandas as pd\n",
    "import numpy as np\n",
    "import jieba"
   ]
  },
  {
   "cell_type": "code",
   "execution_count": 2,
   "metadata": {},
   "outputs": [
    {
     "name": "stderr",
     "output_type": "stream",
     "text": [
      "/usr/local/lib/python3.5/dist-packages/h5py/__init__.py:36: FutureWarning: Conversion of the second argument of issubdtype from `float` to `np.floating` is deprecated. In future, it will be treated as `np.float64 == np.dtype(float).type`.\n",
      "  from ._conv import register_converters as _register_converters\n",
      "Using TensorFlow backend.\n"
     ]
    }
   ],
   "source": [
    "from cleanse import separateUserContent,separateAllContent\n",
    "from random import shuffle, randint\n",
    "from gensim.models import word2vec\n",
    "from gensim.models import KeyedVectors\n",
    "import matplotlib.pyplot as plt\n",
    "from keras.preprocessing.sequence import pad_sequences\n",
    "from keras.layers import Input, Dense ,SimpleRNN, Embedding, Activation, LSTM, GRU,Bidirectional,GlobalMaxPooling1D,Dot,Lambda,Add,Conv1D\n",
    "from keras.models import Model,  Sequential, load_model,model_from_json\n",
    "from keras import backend as K\n",
    "from keras.callbacks import ModelCheckpoint"
   ]
  },
  {
   "cell_type": "code",
   "execution_count": 3,
   "metadata": {},
   "outputs": [
    {
     "name": "stdout",
     "output_type": "stream",
     "text": [
      "['我的T102H一直重開機不能用 平板電腦説找筆電處理', '電源有重新插拔過嗎 有等他跑完過嗎']\n"
     ]
    }
   ],
   "source": [
    "tmp_tup_df =pd.read_pickle(\"validation_tup_list.pkl\")#固定TEST ANS SET讓測試資料都一樣\n",
    "validation_tup_list =tmp_tup_df.values.tolist()\n",
    "print(validation_tup_list[0])"
   ]
  },
  {
   "cell_type": "code",
   "execution_count": 4,
   "metadata": {},
   "outputs": [
    {
     "name": "stdout",
     "output_type": "stream",
     "text": [
      "['鬧鐘無法關閉 智能管家無封鎖', '您說無法關閉是  請問有畫面嗎']\n"
     ]
    }
   ],
   "source": [
    "tmp_tup_df =pd.read_pickle(\"training_tup_list.pkl\")#固定TEST ANS SET讓測試資料都一樣\n",
    "training_tup_list =tmp_tup_df.values.tolist()\n",
    "print(training_tup_list[0])"
   ]
  },
  {
   "cell_type": "code",
   "execution_count": 5,
   "metadata": {},
   "outputs": [
    {
     "name": "stdout",
     "output_type": "stream",
     "text": [
      "49916\n"
     ]
    }
   ],
   "source": [
    "print(len(training_tup_list))"
   ]
  },
  {
   "cell_type": "code",
   "execution_count": 6,
   "metadata": {},
   "outputs": [],
   "source": [
    "vec_model = word2vec.Word2Vec.load(\"word2vec.model\")"
   ]
  },
  {
   "cell_type": "code",
   "execution_count": 7,
   "metadata": {},
   "outputs": [],
   "source": [
    "import pickle\n",
    "f = open(\"word_index_dic.pkl\",\"rb\")\n",
    "word_index = pickle.load(f)\n",
    "f.close()"
   ]
  },
  {
   "cell_type": "code",
   "execution_count": 8,
   "metadata": {},
   "outputs": [
    {
     "data": {
      "text/plain": [
       "2820"
      ]
     },
     "execution_count": 8,
     "metadata": {},
     "output_type": "execute_result"
    }
   ],
   "source": [
    "word_index[\" \"]"
   ]
  },
  {
   "cell_type": "code",
   "execution_count": 9,
   "metadata": {},
   "outputs": [],
   "source": [
    "def makeQuesFeatuers(vec_model,word_index):\n",
    "    docs = []\n",
    "\n",
    "   \n",
    "            \n",
    "    for i in range(len(training_tup_list)):\n",
    "        list1 = jieba.cut(training_tup_list[i][0], cut_all = False)\n",
    "    \n",
    "        docs.append(list(list1))\n",
    "\n",
    "   \n",
    "   \n",
    "\n",
    "    encoded_docs = []\n",
    "    for list10 in docs:\n",
    "        list_temp = []\n",
    "        for word in list10:\n",
    "            if word in vec_model.wv.vocab:\n",
    "                list_temp.append(word_index[word])\n",
    "        encoded_docs.append(list_temp)\n",
    "\n",
    "    #print(encoded_docs[0])\n",
    "    max_length = 40\n",
    "    padded_docs_list = pad_sequences(encoded_docs, maxlen = max_length, padding = 'post')\n",
    "\n",
    "    padded_docs = np.array(padded_docs_list)\n",
    "\n",
    "    return padded_docs"
   ]
  },
  {
   "cell_type": "code",
   "execution_count": 10,
   "metadata": {},
   "outputs": [
    {
     "name": "stderr",
     "output_type": "stream",
     "text": [
      "Building prefix dict from the default dictionary ...\n",
      "Dumping model to file cache /tmp/jieba.cache\n",
      "Loading model cost 0.691 seconds.\n",
      "Prefix dict has been built succesfully.\n"
     ]
    }
   ],
   "source": [
    "train_q_fea = makeQuesFeatuers(vec_model, word_index)"
   ]
  },
  {
   "cell_type": "code",
   "execution_count": 11,
   "metadata": {},
   "outputs": [],
   "source": [
    "max_len = 40 #model的部份主要按照ANSWER SELECTION GITHUB\n",
    "input_q = Input((max_len,))\n"
   ]
  },
  {
   "cell_type": "code",
   "execution_count": 12,
   "metadata": {},
   "outputs": [],
   "source": [
    "embedding_matrix = np.zeros((len(vec_model.wv.vocab)+1, 250))\n",
    "for word, i in word_index.items():\n",
    "        embedding_vector = vec_model.wv[word]\n",
    "        embedding_matrix[i] = embedding_vector\n",
    "        \n",
    "embedding_layer = Embedding(len(vec_model.wv.vocab)+1, 250, weights = [embedding_matrix], input_length = 40)"
   ]
  },
  {
   "cell_type": "code",
   "execution_count": 13,
   "metadata": {},
   "outputs": [],
   "source": [
    "emb_q = embedding_layer(input_q)\n"
   ]
  },
  {
   "cell_type": "code",
   "execution_count": 14,
   "metadata": {},
   "outputs": [],
   "source": [
    "shared_lstm = Bidirectional(\n",
    "    LSTM(300, return_sequences=True)\n",
    ")\n",
    "encode_q = shared_lstm(emb_q)"
   ]
  },
  {
   "cell_type": "code",
   "execution_count": 15,
   "metadata": {},
   "outputs": [],
   "source": [
    "vec_q = GlobalMaxPooling1D()(encode_q)"
   ]
  },
  {
   "cell_type": "code",
   "execution_count": 16,
   "metadata": {},
   "outputs": [],
   "source": [
    "result = Dense(49916)(vec_q)"
   ]
  },
  {
   "cell_type": "code",
   "execution_count": 17,
   "metadata": {},
   "outputs": [],
   "source": [
    "model = Model(inputs = input_q, outputs = result)"
   ]
  },
  {
   "cell_type": "code",
   "execution_count": 18,
   "metadata": {},
   "outputs": [],
   "source": [
    "model.compile(optimizer='adam', loss='mean_squared_error')"
   ]
  },
  {
   "cell_type": "code",
   "execution_count": 19,
   "metadata": {},
   "outputs": [
    {
     "name": "stdout",
     "output_type": "stream",
     "text": [
      "_________________________________________________________________\n",
      "Layer (type)                 Output Shape              Param #   \n",
      "=================================================================\n",
      "input_1 (InputLayer)         (None, 40)                0         \n",
      "_________________________________________________________________\n",
      "embedding_1 (Embedding)      (None, 40, 250)           1716250   \n",
      "_________________________________________________________________\n",
      "bidirectional_1 (Bidirection (None, 40, 600)           1322400   \n",
      "_________________________________________________________________\n",
      "global_max_pooling1d_1 (Glob (None, 600)               0         \n",
      "_________________________________________________________________\n",
      "dense_1 (Dense)              (None, 49916)             29999516  \n",
      "=================================================================\n",
      "Total params: 33,038,166\n",
      "Trainable params: 33,038,166\n",
      "Non-trainable params: 0\n",
      "_________________________________________________________________\n"
     ]
    }
   ],
   "source": [
    "model.summary()"
   ]
  },
  {
   "cell_type": "code",
   "execution_count": 20,
   "metadata": {},
   "outputs": [],
   "source": [
    "label = np.zeros((49916,49916))\n",
    "for i in range(0, 49916):\n",
    "    label[i][i] = 1\n"
   ]
  },
  {
   "cell_type": "code",
   "execution_count": 21,
   "metadata": {},
   "outputs": [],
   "source": [
    "filepath=\"weights_best_49916.hdf5\"\n",
    "checkpoint = ModelCheckpoint(filepath, monitor='loss',verbose=1, save_best_only=True,save_weights_only=False, mode='min')\n",
    "callbacks_list = [checkpoint]"
   ]
  },
  {
   "cell_type": "code",
   "execution_count": 22,
   "metadata": {},
   "outputs": [
    {
     "name": "stdout",
     "output_type": "stream",
     "text": [
      "Epoch 1/3\n",
      "49916/49916 [==============================] - 43s 853us/step - loss: 2.6224e-05\n",
      "\n",
      "Epoch 00001: loss improved from inf to 0.00003, saving model to weights_best_49916.hdf5\n",
      "Epoch 2/3\n",
      "49916/49916 [==============================] - 37s 742us/step - loss: 2.0749e-05\n",
      "\n",
      "Epoch 00002: loss improved from 0.00003 to 0.00002, saving model to weights_best_49916.hdf5\n",
      "Epoch 3/3\n",
      "49916/49916 [==============================] - 37s 739us/step - loss: 2.0518e-05\n",
      "\n",
      "Epoch 00003: loss improved from 0.00002 to 0.00002, saving model to weights_best_49916.hdf5\n"
     ]
    },
    {
     "data": {
      "text/plain": [
       "<keras.callbacks.History at 0x7f20ee0b4940>"
      ]
     },
     "execution_count": 22,
     "metadata": {},
     "output_type": "execute_result"
    }
   ],
   "source": [
    "model.fit(train_q_fea, label , callbacks=callbacks_list,epochs= 3, batch_size = 256, verbose = 1)"
   ]
  },
  {
   "cell_type": "code",
   "execution_count": 23,
   "metadata": {},
   "outputs": [],
   "source": [
    "model.load_weights(filepath =\"weights_best_49916.hdf5\" )"
   ]
  },
  {
   "cell_type": "code",
   "execution_count": 24,
   "metadata": {},
   "outputs": [],
   "source": [
    "model_json = model.to_json()\n",
    "with open(\"model_49916_01.json\", \"w\") as json_file:\n",
    "    json_file.write(model_json)"
   ]
  },
  {
   "cell_type": "code",
   "execution_count": 25,
   "metadata": {},
   "outputs": [],
   "source": [
    "def makeTestQuesFeatuers(vec_model,word_index):\n",
    "    docs = []\n",
    "\n",
    "   \n",
    "            \n",
    "    for i in range(len(validation_tup_list)):\n",
    "        list1 = jieba.cut(validation_tup_list[i][0], cut_all = False)\n",
    "    \n",
    "        docs.append(list(list1))\n",
    "\n",
    "   \n",
    "   \n",
    "\n",
    "    encoded_docs = []\n",
    "    for list10 in docs:\n",
    "        list_temp = []\n",
    "        for word in list10:\n",
    "            if word in vec_model.wv.vocab:\n",
    "                list_temp.append(word_index[word])\n",
    "        encoded_docs.append(list_temp)\n",
    "\n",
    "    #print(encoded_docs[0])\n",
    "    max_length = 40\n",
    "    padded_docs_list = pad_sequences(encoded_docs, maxlen = max_length, padding = 'post')\n",
    "\n",
    "    padded_docs = np.array(padded_docs_list)\n",
    "\n",
    "    return padded_docs"
   ]
  },
  {
   "cell_type": "code",
   "execution_count": 26,
   "metadata": {},
   "outputs": [],
   "source": [
    "test_q_fea = makeTestQuesFeatuers(vec_model, word_index)"
   ]
  },
  {
   "cell_type": "code",
   "execution_count": 71,
   "metadata": {},
   "outputs": [],
   "source": [
    "ans = model.predict(test_q_fea)"
   ]
  },
  {
   "cell_type": "code",
   "execution_count": 72,
   "metadata": {},
   "outputs": [],
   "source": [
    "ans_max =[]\n",
    "ans_num = []\n",
    "\n",
    "for i in range(0,5):\n",
    "    temp_ind = np.argmax(ans, axis = 1)\n",
    "    temp_num = np.max(ans,axis = 1)\n",
    "    ans_num.append(temp_num)\n",
    "    ans_max.append(temp_ind)\n",
    "    for j in range(0,len(ans)):\n",
    "        ans[j][temp_ind[j]] = -100\n",
    "    \n",
    "        \n",
    "        \n",
    "        "
   ]
  },
  {
   "cell_type": "code",
   "execution_count": 94,
   "metadata": {},
   "outputs": [
    {
     "ename": "IndexError",
     "evalue": "list index out of range",
     "output_type": "error",
     "traceback": [
      "\u001b[0;31m---------------------------------------------------------------------------\u001b[0m",
      "\u001b[0;31mIndexError\u001b[0m                                Traceback (most recent call last)",
      "\u001b[0;32m<ipython-input-94-0419d15c01a1>\u001b[0m in \u001b[0;36m<module>\u001b[0;34m()\u001b[0m\n\u001b[0;32m----> 1\u001b[0;31m \u001b[0mans_max\u001b[0m\u001b[0;34m[\u001b[0m\u001b[0;36m5\u001b[0m\u001b[0;34m]\u001b[0m\u001b[0;34m[\u001b[0m\u001b[0;36m0\u001b[0m\u001b[0;34m]\u001b[0m\u001b[0;34m\u001b[0m\u001b[0m\n\u001b[0m",
      "\u001b[0;31mIndexError\u001b[0m: list index out of range"
     ]
    }
   ],
   "source": [
    "ans_max[5][0]"
   ]
  },
  {
   "cell_type": "code",
   "execution_count": 88,
   "metadata": {},
   "outputs": [
    {
     "data": {
      "text/plain": [
       "0.0006934507"
      ]
     },
     "execution_count": 88,
     "metadata": {},
     "output_type": "execute_result"
    }
   ],
   "source": [
    "ans_num[2][10]"
   ]
  },
  {
   "cell_type": "code",
   "execution_count": 80,
   "metadata": {},
   "outputs": [],
   "source": [
    "with open(\"Output_49916.txt\", \"w\") as text_file:\n",
    "    for i in range(len(validation_tup_list)):\n",
    "        text_file.write(\"Question %d : %s\\n\" % (i+1, validation_tup_list[i][0]))\n",
    "        text_file.write(\"Ans: 0. %s %f\\n\" % (training_tup_list[ans_max[0][i]][1], ans_num[0][i]))\n",
    "        text_file.write(\"     1. %s %f\\n\" % (training_tup_list[ans_max[1][i]][1], ans_num[1][i]))\n",
    "        text_file.write(\"     2. %s %f\\n\" % (training_tup_list[ans_max[2][i]][1], ans_num[2][i]))\n",
    "        text_file.write(\"     3. %s %f\\n\" % (training_tup_list[ans_max[3][i]][1], ans_num[3][i]))\n",
    "        text_file.write(\"     4. %s %f\\n\" % (training_tup_list[ans_max[4][i]][1], ans_num[4][i]))\n",
    "        text_file.write(\"True answer is \\n\")\n",
    "        text_file.write(\"Ans: %s\\n\" % validation_tup_list[i][1])\n",
    "        text_file.write(\"===========================\\n\")"
   ]
  },
  {
   "cell_type": "code",
   "execution_count": null,
   "metadata": {},
   "outputs": [],
   "source": []
  }
 ],
 "metadata": {
  "kernelspec": {
   "display_name": "Python 3",
   "language": "python",
   "name": "python3"
  },
  "language_info": {
   "codemirror_mode": {
    "name": "ipython",
    "version": 3
   },
   "file_extension": ".py",
   "mimetype": "text/x-python",
   "name": "python",
   "nbconvert_exporter": "python",
   "pygments_lexer": "ipython3",
   "version": "3.5.2"
  }
 },
 "nbformat": 4,
 "nbformat_minor": 2
}
